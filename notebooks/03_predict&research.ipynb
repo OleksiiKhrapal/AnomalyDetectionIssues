{
 "cells": [
  {
   "cell_type": "code",
   "execution_count": 1,
   "id": "b875a3dc-d203-456e-8635-b7dc1b47373a",
   "metadata": {},
   "outputs": [
    {
     "ename": "NameError",
     "evalue": "name 'plt' is not defined",
     "output_type": "error",
     "traceback": [
      "\u001b[1;31m---------------------------------------------------------------------------\u001b[0m",
      "\u001b[1;31mNameError\u001b[0m                                 Traceback (most recent call last)",
      "Cell \u001b[1;32mIn[1], line 1\u001b[0m\n\u001b[1;32m----> 1\u001b[0m plt\u001b[38;5;241m.\u001b[39mplot(data_norm_train[\u001b[38;5;124m'\u001b[39m\u001b[38;5;124mV1\u001b[39m\u001b[38;5;124m'\u001b[39m][:\u001b[38;5;241m500\u001b[39m])\n\u001b[0;32m      2\u001b[0m plt\u001b[38;5;241m.\u001b[39mplot(data_norm_train[\u001b[38;5;124m'\u001b[39m\u001b[38;5;124mV2\u001b[39m\u001b[38;5;124m'\u001b[39m][:\u001b[38;5;241m500\u001b[39m])\n\u001b[0;32m      3\u001b[0m plt\u001b[38;5;241m.\u001b[39mplot(data_norm_train[\u001b[38;5;124m'\u001b[39m\u001b[38;5;124mV3\u001b[39m\u001b[38;5;124m'\u001b[39m][:\u001b[38;5;241m500\u001b[39m])\n",
      "\u001b[1;31mNameError\u001b[0m: name 'plt' is not defined"
     ]
    }
   ],
   "source": []
  },
  {
   "cell_type": "code",
   "execution_count": null,
   "id": "bfc34d1f-1d83-4d8b-ad72-56ee60355da5",
   "metadata": {},
   "outputs": [],
   "source": [
    "plt.plot(data_norm_train['V1'][:500])\n",
    "plt.plot(data_norm_train['V2'][:500])\n",
    "plt.plot(data_norm_train['V3'][:500])\n",
    "plt.show()"
   ]
  },
  {
   "cell_type": "code",
   "execution_count": null,
   "id": "877f61f4-4012-405d-89ff-b313d37bf922",
   "metadata": {},
   "outputs": [],
   "source": [
    "plt.plot(data_anomaly_test['V1'])\n",
    "plt.plot(data_anomaly_test['V2'])\n",
    "plt.plot(data_anomaly_test['V3'])\n",
    "plt.show()"
   ]
  },
  {
   "cell_type": "code",
   "execution_count": null,
   "id": "a2d0f736-5813-48da-8df2-9fd4ae69577d",
   "metadata": {},
   "outputs": [],
   "source": [
    "threshold=0.0012\n",
    "plt.hist(loss_norm, bins=100, label='normal')\n",
    "#plt.hist(loss_anomaly, bins=100, label='normal')\n",
    "plt.axvline(threshold, color='r', linewidth=3, linestyle='dashed', label='{:0.3f}'.format(threshold))\n",
    "plt.show()\n"
   ]
  },
  {
   "cell_type": "code",
   "execution_count": null,
   "id": "5b0ac752-6b37-4e3a-a97f-8631b064906e",
   "metadata": {},
   "outputs": [],
   "source": [
    "plt.hist(loss_anomaly, bins=100, label='normal')\n",
    "plt.axvline(threshold, color='r', linewidth=3, linestyle='dashed', label='{:0.3f}'.format(threshold))\n",
    "plt.show()"
   ]
  },
  {
   "cell_type": "code",
   "execution_count": null,
   "id": "cb219ab9-3565-4805-864e-22a59e339f2d",
   "metadata": {},
   "outputs": [],
   "source": [
    "mean_norm = data_norm_test.mean()\n",
    "std_norm = data_norm_test.std()\n",
    "\n",
    "mean_z_per_feature = abs_z_scores.mean(axis=0)\n",
    "mean_z_per_feature\n",
    "\n",
    "important_features = mean_z_per_feature.sort_values(ascending=False)\n",
    "important_features \n",
    "\n",
    "data_norm_test['V12'].hist(bins=10)"
   ]
  }
 ],
 "metadata": {
  "kernelspec": {
   "display_name": "Python 3 (ipykernel)",
   "language": "python",
   "name": "python3"
  },
  "language_info": {
   "codemirror_mode": {
    "name": "ipython",
    "version": 3
   },
   "file_extension": ".py",
   "mimetype": "text/x-python",
   "name": "python",
   "nbconvert_exporter": "python",
   "pygments_lexer": "ipython3",
   "version": "3.11.11"
  }
 },
 "nbformat": 4,
 "nbformat_minor": 5
}
